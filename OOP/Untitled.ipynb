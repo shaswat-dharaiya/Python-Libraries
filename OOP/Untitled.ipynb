{
 "cells": [
  {
   "cell_type": "markdown",
   "id": "geographic-trading",
   "metadata": {},
   "source": [
    "# Types of Inheritence"
   ]
  },
  {
   "cell_type": "code",
   "execution_count": 139,
   "id": "senior-dover",
   "metadata": {},
   "outputs": [],
   "source": [
    "class A:\n",
    "    def __init__(self):\n",
    "        print(\"In A init\")\n",
    "        \n",
    "    def feature1(self):\n",
    "        print(\"Feature 1\")\n",
    "        \n",
    "    def feature2(self):\n",
    "        print(\"Feature 2\")\n",
    "        \n",
    "class B:\n",
    "    def __init__(self):\n",
    "        super().__init__()\n",
    "        print(\"In B init\")\n",
    "        \n",
    "    def feature1(self):\n",
    "        print(\"Feature 3\")\n",
    "        \n",
    "    def feature4(self):\n",
    "        print(\"Feature 4\")\n",
    "\n",
    "class C(B,A):\n",
    "    def __init__(self):\n",
    "        super().__init__()\n",
    "        print(\"In C init\")\n",
    "        \n",
    "    def feature5(self):\n",
    "        print(\"Feature 5\")\n",
    "        \n",
    "    def feature6(self):\n",
    "        print(\"Feature 6\")"
   ]
  },
  {
   "cell_type": "code",
   "execution_count": 128,
   "id": "stable-population",
   "metadata": {},
   "outputs": [
    {
     "name": "stdout",
     "output_type": "stream",
     "text": [
      "In A init\n"
     ]
    }
   ],
   "source": [
    "a1 = A()"
   ]
  },
  {
   "cell_type": "code",
   "execution_count": 108,
   "id": "scientific-enforcement",
   "metadata": {},
   "outputs": [
    {
     "name": "stdout",
     "output_type": "stream",
     "text": [
      "Feature 1\n",
      "Feature 2\n"
     ]
    }
   ],
   "source": [
    "a1.feature1()\n",
    "a1.feature2()"
   ]
  },
  {
   "cell_type": "code",
   "execution_count": 129,
   "id": "third-approval",
   "metadata": {},
   "outputs": [
    {
     "name": "stdout",
     "output_type": "stream",
     "text": [
      "In A init\n",
      "In B init\n"
     ]
    }
   ],
   "source": [
    "b1 = B()"
   ]
  },
  {
   "cell_type": "code",
   "execution_count": 113,
   "id": "enormous-heather",
   "metadata": {},
   "outputs": [
    {
     "name": "stdout",
     "output_type": "stream",
     "text": [
      "Feature 1\n",
      "Feature 2\n",
      "Feature 3\n",
      "Feature 4\n"
     ]
    }
   ],
   "source": [
    "b1.feature1()\n",
    "b1.feature2()\n",
    "b1.feature3()\n",
    "b1.feature4()"
   ]
  },
  {
   "cell_type": "code",
   "execution_count": 140,
   "id": "egyptian-tuesday",
   "metadata": {},
   "outputs": [
    {
     "name": "stdout",
     "output_type": "stream",
     "text": [
      "In A init\n",
      "In B init\n",
      "In C init\n"
     ]
    }
   ],
   "source": [
    "c1 = C()"
   ]
  },
  {
   "cell_type": "code",
   "execution_count": 142,
   "id": "complimentary-number",
   "metadata": {},
   "outputs": [
    {
     "name": "stdout",
     "output_type": "stream",
     "text": [
      "Feature 3\n"
     ]
    }
   ],
   "source": [
    "c1.feature1()\n",
    "# c1.feature2()\n",
    "# c1.feature3()\n",
    "# c1.feature4()\n",
    "# c1.feature5()\n",
    "# c1.feature6()"
   ]
  },
  {
   "cell_type": "markdown",
   "id": "antique-august",
   "metadata": {},
   "source": [
    "# Polymorphism"
   ]
  },
  {
   "cell_type": "code",
   "execution_count": 145,
   "id": "improved-committee",
   "metadata": {},
   "outputs": [],
   "source": [
    "class PyCharm:\n",
    "    def execute(self):\n",
    "        print('Compiling')\n",
    "        print('Running')\n",
    "        \n",
    "class MyIDE:\n",
    "    def execute(self):\n",
    "        print('Spell Check')\n",
    "        print('Convention Check')\n",
    "        print('Compiling')\n",
    "        print('Running')\n",
    "\n",
    "class Laptop:\n",
    "    def code(self,ide):\n",
    "        ide.execute()"
   ]
  },
  {
   "cell_type": "code",
   "execution_count": 146,
   "id": "prescribed-daisy",
   "metadata": {},
   "outputs": [
    {
     "name": "stdout",
     "output_type": "stream",
     "text": [
      "Spell Check\n",
      "Convention Check\n",
      "Compiling\n",
      "Running\n"
     ]
    }
   ],
   "source": [
    "ide = MyIDE()\n",
    "\n",
    "lap1 = Laptop()\n",
    "lap1.code(ide)"
   ]
  },
  {
   "cell_type": "markdown",
   "id": "specialized-isolation",
   "metadata": {},
   "source": [
    "# Operator overloading"
   ]
  },
  {
   "cell_type": "code",
   "execution_count": 209,
   "id": "local-establishment",
   "metadata": {},
   "outputs": [],
   "source": [
    "class Student:\n",
    "    def __init__(self,m1,m2):\n",
    "        self.m1 = m1\n",
    "        self.m2 = m2\n",
    "    \n",
    "    def __add__(self, other):\n",
    "        m1 = self.m1 + other.m1\n",
    "        m2 = self.m2 + other.m2\n",
    "        s3 = Student(m1,m2)\n",
    "        return s3\n",
    "    \n",
    "    def __sub__(self, other):\n",
    "        m1 = self.m1 - other.m1\n",
    "        m2 = self.m2 - other.m2\n",
    "        s3 = Student(m1,m2)\n",
    "        return s3\n",
    "    \n",
    "    def __gt__(self, other):\n",
    "        m1 = self.m1 + other.m1\n",
    "        m2 = self.m2 + other.m2\n",
    "        if m1 > m2:\n",
    "            return True\n",
    "        return False\n",
    "    \n",
    "    def __str__(self):\n",
    "        return \"{} {}\".format(self.m1, self.m2)\n",
    "    \n",
    "#     Method Overloading\n",
    "    def sum(self,*a):\n",
    "        return sum(a)        "
   ]
  },
  {
   "cell_type": "code",
   "execution_count": 210,
   "id": "blocked-pharmacy",
   "metadata": {},
   "outputs": [],
   "source": [
    "s1 = Student(50,69)\n",
    "s2 = Student(59,60)"
   ]
  },
  {
   "cell_type": "code",
   "execution_count": 204,
   "id": "interesting-groove",
   "metadata": {},
   "outputs": [],
   "source": [
    "s3 = s1 + s2\n",
    "s4 = s1 - s2"
   ]
  },
  {
   "cell_type": "code",
   "execution_count": 205,
   "id": "signal-testament",
   "metadata": {},
   "outputs": [
    {
     "data": {
      "text/plain": [
       "False"
      ]
     },
     "execution_count": 205,
     "metadata": {},
     "output_type": "execute_result"
    }
   ],
   "source": [
    "s1.m1 > s2.m1"
   ]
  },
  {
   "cell_type": "code",
   "execution_count": 206,
   "id": "israeli-europe",
   "metadata": {},
   "outputs": [
    {
     "name": "stdout",
     "output_type": "stream",
     "text": [
      "50 69\n"
     ]
    }
   ],
   "source": [
    "print(s1)"
   ]
  },
  {
   "cell_type": "markdown",
   "id": "violent-savings",
   "metadata": {},
   "source": [
    "# Method Overloading"
   ]
  },
  {
   "cell_type": "code",
   "execution_count": 208,
   "id": "failing-restaurant",
   "metadata": {},
   "outputs": [
    {
     "data": {
      "text/plain": [
       "30"
      ]
     },
     "execution_count": 208,
     "metadata": {},
     "output_type": "execute_result"
    }
   ],
   "source": [
    "s1.sum(5,9,16)"
   ]
  },
  {
   "cell_type": "markdown",
   "id": "perfect-section",
   "metadata": {},
   "source": [
    "# Method Overidding"
   ]
  },
  {
   "cell_type": "code",
   "execution_count": 214,
   "id": "productive-explanation",
   "metadata": {},
   "outputs": [],
   "source": [
    "class A:\n",
    "    def show(self):\n",
    "        print(\"A show\")\n",
    "        \n",
    "class B(A):\n",
    "    def show(self):\n",
    "        print(\"B show\")"
   ]
  },
  {
   "cell_type": "code",
   "execution_count": 217,
   "id": "hollow-skiing",
   "metadata": {},
   "outputs": [
    {
     "name": "stdout",
     "output_type": "stream",
     "text": [
      "B show\n"
     ]
    }
   ],
   "source": [
    "a1 = B()\n",
    "a1.show()"
   ]
  },
  {
   "cell_type": "code",
   "execution_count": null,
   "id": "otherwise-narrative",
   "metadata": {},
   "outputs": [],
   "source": []
  }
 ],
 "metadata": {
  "kernelspec": {
   "display_name": "Python 3",
   "language": "python",
   "name": "python3"
  },
  "language_info": {
   "codemirror_mode": {
    "name": "ipython",
    "version": 3
   },
   "file_extension": ".py",
   "mimetype": "text/x-python",
   "name": "python",
   "nbconvert_exporter": "python",
   "pygments_lexer": "ipython3",
   "version": "3.8.5"
  }
 },
 "nbformat": 4,
 "nbformat_minor": 5
}
